{
 "cells": [
  {
   "cell_type": "code",
   "execution_count": 144,
   "metadata": {},
   "outputs": [],
   "source": [
    "import os\n",
    "import re\n",
    "import pandas as pd\n",
    "import numpy as np"
   ]
  },
  {
   "cell_type": "code",
   "execution_count": 258,
   "metadata": {},
   "outputs": [
    {
     "data": {
      "text/html": [
       "<div>\n",
       "<style scoped>\n",
       "    .dataframe tbody tr th:only-of-type {\n",
       "        vertical-align: middle;\n",
       "    }\n",
       "\n",
       "    .dataframe tbody tr th {\n",
       "        vertical-align: top;\n",
       "    }\n",
       "\n",
       "    .dataframe thead th {\n",
       "        text-align: right;\n",
       "    }\n",
       "</style>\n",
       "<table border=\"1\" class=\"dataframe\">\n",
       "  <thead>\n",
       "    <tr style=\"text-align: right;\">\n",
       "      <th></th>\n",
       "      <th>Col1</th>\n",
       "      <th>Col2</th>\n",
       "      <th>Col3</th>\n",
       "      <th>Col4</th>\n",
       "      <th>Col5</th>\n",
       "      <th>ma,me,mo,mu</th>\n",
       "    </tr>\n",
       "  </thead>\n",
       "  <tbody>\n",
       "    <tr>\n",
       "      <th>0</th>\n",
       "      <td>Aba</td>\n",
       "      <td>Eba</td>\n",
       "      <td>Iba</td>\n",
       "      <td>Oba</td>\n",
       "      <td>Uba</td>\n",
       "      <td>0.4,0.6,1.5,0</td>\n",
       "    </tr>\n",
       "    <tr>\n",
       "      <th>1</th>\n",
       "      <td>Ata</td>\n",
       "      <td>Eta</td>\n",
       "      <td>Ita</td>\n",
       "      <td>Ota</td>\n",
       "      <td>Uta</td>\n",
       "      <td>1.6,0.1,0,0</td>\n",
       "    </tr>\n",
       "    <tr>\n",
       "      <th>2</th>\n",
       "      <td>Ala</td>\n",
       "      <td>Ele</td>\n",
       "      <td>Ile</td>\n",
       "      <td>Ole</td>\n",
       "      <td>Ule</td>\n",
       "      <td>0.9,0.3,1.8,1</td>\n",
       "    </tr>\n",
       "  </tbody>\n",
       "</table>\n",
       "</div>"
      ],
      "text/plain": [
       "  Col1 Col2 Col3 Col4 Col5    ma,me,mo,mu\n",
       "0  Aba  Eba  Iba  Oba  Uba  0.4,0.6,1.5,0\n",
       "1  Ata  Eta  Ita  Ota  Uta    1.6,0.1,0,0\n",
       "2  Ala  Ele  Ile  Ole  Ule  0.9,0.3,1.8,1"
      ]
     },
     "execution_count": 258,
     "metadata": {},
     "output_type": "execute_result"
    }
   ],
   "source": [
    "df = pd.read_csv(\"./teste.tsv\", sep=\"\\t\",)\n",
    "df"
   ]
  },
  {
   "cell_type": "code",
   "execution_count": 193,
   "metadata": {},
   "outputs": [
    {
     "data": {
      "text/html": [
       "<div>\n",
       "<style scoped>\n",
       "    .dataframe tbody tr th:only-of-type {\n",
       "        vertical-align: middle;\n",
       "    }\n",
       "\n",
       "    .dataframe tbody tr th {\n",
       "        vertical-align: top;\n",
       "    }\n",
       "\n",
       "    .dataframe thead th {\n",
       "        text-align: right;\n",
       "    }\n",
       "</style>\n",
       "<table border=\"1\" class=\"dataframe\">\n",
       "  <thead>\n",
       "    <tr style=\"text-align: right;\">\n",
       "      <th></th>\n",
       "      <th>Col1</th>\n",
       "      <th>Col2</th>\n",
       "      <th>Col3</th>\n",
       "      <th>Col4</th>\n",
       "      <th>Col5</th>\n",
       "      <th>option</th>\n",
       "    </tr>\n",
       "  </thead>\n",
       "  <tbody>\n",
       "    <tr>\n",
       "      <th>0</th>\n",
       "      <td>Aba</td>\n",
       "      <td>Eba</td>\n",
       "      <td>Iba</td>\n",
       "      <td>Oba</td>\n",
       "      <td>Uba</td>\n",
       "      <td>None</td>\n",
       "    </tr>\n",
       "    <tr>\n",
       "      <th>1</th>\n",
       "      <td>Ata</td>\n",
       "      <td>Eta</td>\n",
       "      <td>Ita</td>\n",
       "      <td>Ota</td>\n",
       "      <td>Uta</td>\n",
       "      <td>one</td>\n",
       "    </tr>\n",
       "    <tr>\n",
       "      <th>2</th>\n",
       "      <td>Ala</td>\n",
       "      <td>Ele</td>\n",
       "      <td>Ile</td>\n",
       "      <td>Ole</td>\n",
       "      <td>Ule</td>\n",
       "      <td>one</td>\n",
       "    </tr>\n",
       "  </tbody>\n",
       "</table>\n",
       "</div>"
      ],
      "text/plain": [
       "  Col1 Col2 Col3 Col4 Col5 option\n",
       "0  Aba  Eba  Iba  Oba  Uba   None\n",
       "1  Ata  Eta  Ita  Ota  Uta    one\n",
       "2  Ala  Ele  Ile  Ole  Ule    one"
      ]
     },
     "execution_count": 193,
     "metadata": {},
     "output_type": "execute_result"
    }
   ],
   "source": [
    "df = pd.read_csv(\"./teste.tsv\", sep=\"\\t\",)\n",
    "df\n",
    "df[\"option\"] = np.where(df[\"ma,me,mo,mu\"].str.split(\",\").str[0].astype(float) > 0.5, 'one','None')\n",
    "df.drop(\"ma,me,mo,mu\",axis=1)"
   ]
  },
  {
   "cell_type": "code",
   "execution_count": 284,
   "metadata": {},
   "outputs": [
    {
     "data": {
      "text/html": [
       "<div>\n",
       "<style scoped>\n",
       "    .dataframe tbody tr th:only-of-type {\n",
       "        vertical-align: middle;\n",
       "    }\n",
       "\n",
       "    .dataframe tbody tr th {\n",
       "        vertical-align: top;\n",
       "    }\n",
       "\n",
       "    .dataframe thead th {\n",
       "        text-align: right;\n",
       "    }\n",
       "</style>\n",
       "<table border=\"1\" class=\"dataframe\">\n",
       "  <thead>\n",
       "    <tr style=\"text-align: right;\">\n",
       "      <th></th>\n",
       "      <th>Col1</th>\n",
       "      <th>Col2</th>\n",
       "      <th>Col3</th>\n",
       "      <th>Col4</th>\n",
       "      <th>Col5</th>\n",
       "      <th>option</th>\n",
       "    </tr>\n",
       "  </thead>\n",
       "  <tbody>\n",
       "    <tr>\n",
       "      <th>0</th>\n",
       "      <td>Aba</td>\n",
       "      <td>Eba</td>\n",
       "      <td>Iba</td>\n",
       "      <td>Oba</td>\n",
       "      <td>Uba</td>\n",
       "      <td>ma,me,mo,</td>\n",
       "    </tr>\n",
       "    <tr>\n",
       "      <th>1</th>\n",
       "      <td>Ata</td>\n",
       "      <td>Eta</td>\n",
       "      <td>Ita</td>\n",
       "      <td>Ota</td>\n",
       "      <td>Uta</td>\n",
       "      <td>ma,</td>\n",
       "    </tr>\n",
       "    <tr>\n",
       "      <th>2</th>\n",
       "      <td>Ala</td>\n",
       "      <td>Ele</td>\n",
       "      <td>Ile</td>\n",
       "      <td>Ole</td>\n",
       "      <td>Ule</td>\n",
       "      <td>ma,me,mo,mu,</td>\n",
       "    </tr>\n",
       "  </tbody>\n",
       "</table>\n",
       "</div>"
      ],
      "text/plain": [
       "  Col1 Col2 Col3 Col4 Col5        option\n",
       "0  Aba  Eba  Iba  Oba  Uba     ma,me,mo,\n",
       "1  Ata  Eta  Ita  Ota  Uta           ma,\n",
       "2  Ala  Ele  Ile  Ole  Ule  ma,me,mo,mu,"
      ]
     },
     "execution_count": 284,
     "metadata": {},
     "output_type": "execute_result"
    }
   ],
   "source": [
    "df = pd.read_csv(\"./teste.tsv\", sep=\"\\t\",)\n",
    "\n",
    "name=df.columns[-1].split(\",\")\n",
    "value=len(name)\n",
    "df['option']=''\n",
    "for index,col in df.iterrows():\n",
    "    for i in range(value):\n",
    "        if abs(float(col[5].split(\",\")[i])) > 0.2:\n",
    "            df.loc[index,'option'] += name[i]+','\n",
    "df = df.drop(\"ma,me,mo,mu\",axis=1)            \n",
    "df"
   ]
  },
  {
   "cell_type": "code",
   "execution_count": 229,
   "metadata": {},
   "outputs": [
    {
     "data": {
      "text/html": [
       "<div>\n",
       "<style scoped>\n",
       "    .dataframe tbody tr th:only-of-type {\n",
       "        vertical-align: middle;\n",
       "    }\n",
       "\n",
       "    .dataframe tbody tr th {\n",
       "        vertical-align: top;\n",
       "    }\n",
       "\n",
       "    .dataframe thead th {\n",
       "        text-align: right;\n",
       "    }\n",
       "</style>\n",
       "<table border=\"1\" class=\"dataframe\">\n",
       "  <thead>\n",
       "    <tr style=\"text-align: right;\">\n",
       "      <th></th>\n",
       "      <th>Col1</th>\n",
       "      <th>Col2</th>\n",
       "      <th>Col3</th>\n",
       "      <th>Col4</th>\n",
       "      <th>Col5</th>\n",
       "      <th>ma,me,mo,mu</th>\n",
       "      <th>Option</th>\n",
       "    </tr>\n",
       "  </thead>\n",
       "  <tbody>\n",
       "    <tr>\n",
       "      <th>0</th>\n",
       "      <td>Aba</td>\n",
       "      <td>Eba</td>\n",
       "      <td>Iba</td>\n",
       "      <td>Oba</td>\n",
       "      <td>Uba</td>\n",
       "      <td>0.4,0.6,1.5,kaka,keke,kiki,koko,kuku</td>\n",
       "      <td>NaN</td>\n",
       "    </tr>\n",
       "    <tr>\n",
       "      <th>1</th>\n",
       "      <td>Ata</td>\n",
       "      <td>Eta</td>\n",
       "      <td>Ita</td>\n",
       "      <td>Ota</td>\n",
       "      <td>Uta</td>\n",
       "      <td>1.6,0.1,0,lala,lele,lili,lolo,lulu</td>\n",
       "      <td>1.0</td>\n",
       "    </tr>\n",
       "    <tr>\n",
       "      <th>2</th>\n",
       "      <td>Ala</td>\n",
       "      <td>Ele</td>\n",
       "      <td>Ile</td>\n",
       "      <td>Ole</td>\n",
       "      <td>Ule</td>\n",
       "      <td>0.9,0.3,1.8,mama,meme,mimi,momo,mumu</td>\n",
       "      <td>1.0</td>\n",
       "    </tr>\n",
       "  </tbody>\n",
       "</table>\n",
       "</div>"
      ],
      "text/plain": [
       "  Col1 Col2 Col3 Col4 Col5                           ma,me,mo,mu  Option\n",
       "0  Aba  Eba  Iba  Oba  Uba  0.4,0.6,1.5,kaka,keke,kiki,koko,kuku     NaN\n",
       "1  Ata  Eta  Ita  Ota  Uta    1.6,0.1,0,lala,lele,lili,lolo,lulu     1.0\n",
       "2  Ala  Ele  Ile  Ole  Ule  0.9,0.3,1.8,mama,meme,mimi,momo,mumu     1.0"
      ]
     },
     "execution_count": 229,
     "metadata": {},
     "output_type": "execute_result"
    }
   ],
   "source": [
    "df = pd.read_csv(\"./teste.csv\", sep=\"\\t\",)\n",
    "df.loc[df[\"ma,me,mo,mu\"].str.split(\",\").str[0].astype(float) > 0.5, 'Option'] = 1\n",
    "df"
   ]
  },
  {
   "cell_type": "code",
   "execution_count": 242,
   "metadata": {},
   "outputs": [
    {
     "data": {
      "text/plain": [
       "0.2"
      ]
     },
     "execution_count": 242,
     "metadata": {},
     "output_type": "execute_result"
    }
   ],
   "source": []
  }
 ],
 "metadata": {
  "kernelspec": {
   "display_name": "Python 3",
   "language": "python",
   "name": "python3"
  },
  "language_info": {
   "codemirror_mode": {
    "name": "ipython",
    "version": 3
   },
   "file_extension": ".py",
   "mimetype": "text/x-python",
   "name": "python",
   "nbconvert_exporter": "python",
   "pygments_lexer": "ipython3",
   "version": "3.7.0"
  }
 },
 "nbformat": 4,
 "nbformat_minor": 2
}
